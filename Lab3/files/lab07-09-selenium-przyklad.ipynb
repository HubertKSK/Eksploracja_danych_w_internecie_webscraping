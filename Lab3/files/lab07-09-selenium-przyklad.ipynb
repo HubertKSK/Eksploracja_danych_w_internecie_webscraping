{
 "cells": [
  {
   "cell_type": "markdown",
   "metadata": {},
   "source": [
    "# Eksploracja danych w internecie\n",
    "\n",
    "## Laboartorium 07-08\n",
    "\n",
    "### 1. Przygotowanie środowiska\n",
    "Przed przystąpieniem do korzystania z narzędzia Selenium należy przygotować środowisko wirtualne*, w którym zainstalowane zostaną wszystkie niezbędne pakiety. W tym celu wykonaj poniższe instrukcje.\n",
    "```shell\n",
    "conda create -n sel python=3 selenium notebook requests lxml\n",
    "conda activate sel\n",
    "conda install -c conda-forge geckodriver\n",
    "conda install -c conda-forge python-chromedriver-binary\n",
    "```\n",
    "\n",
    "_\\* Oczywiście nie musi być to środowisko wirtualne a tym bardziej conda._"
   ]
  },
  {
   "cell_type": "markdown",
   "metadata": {},
   "source": [
    "### 2. Przykład odczytania adresów email za pomocą pakietu requests\n",
    "**Istotne**: Źródło strony zostanie pobrane, jednak kod javascript nie zostanie wykonany w związku z czym \"ukryte\" adresy email nie zostaną \"odnalezione\"."
   ]
  },
  {
   "cell_type": "code",
   "execution_count": 1,
   "metadata": {},
   "outputs": [],
   "source": [
    "# Importowanie wszystkich pakietów\n",
    "import requests\n",
    "from lxml import etree\n",
    "from selenium import webdriver"
   ]
  },
  {
   "cell_type": "code",
   "execution_count": 2,
   "metadata": {},
   "outputs": [],
   "source": [
    "# Prykładowy adres URL\n",
    "url = \"https://www.kis.p.lodz.pl/staff.158.html\""
   ]
  },
  {
   "cell_type": "code",
   "execution_count": 3,
   "metadata": {},
   "outputs": [],
   "source": [
    "# Pobranie źródła strony za pomocą pakietu requests\n",
    "source_html = requests.get(url)"
   ]
  },
  {
   "cell_type": "code",
   "execution_count": 4,
   "metadata": {},
   "outputs": [
    {
     "data": {
      "text/plain": "'E-mail:</td>\\n\\t\\t<td><script type=\"text/javascript\">safemail3(\"&#x72;&#x73;&#x75;&#x73;&#x69;&#x6b;\",\"&#x6b;&#x69;&#x73;&#x2e;&#x70;&#x2e;&#x6c;&#x6f;&#x64;&#x7a;&#x2e;&#x70;&#x6c;\")</script></td>\\n\\t</tr>\\n\\t\\t\\t\\t<tr>\\n\\t\\t<td align=\"right\">Godziny przyjęć:</td>\\n\\t\\t<td><div style=\"display: '"
     },
     "execution_count": 4,
     "metadata": {},
     "output_type": "execute_result"
    }
   ],
   "source": [
    "# Na poniższym przykładzie dobrze widać, że email\n",
    "# który zamierzamy odczytać jest \"zamaskowany\" funkcją javascript,\n",
    "# która generuje odpowiedni fragment kodu z adresem email\n",
    "# (w tym przypadku nie wygenerowany).\n",
    "# Wiemy już, że części adresów na pewno nie odnajdziemy.\n",
    "idx = source_html.content.decode().index(\"E-mail\")\n",
    "source_html.content.decode()[idx:idx + 280]"
   ]
  },
  {
   "cell_type": "code",
   "execution_count": 5,
   "metadata": {},
   "outputs": [
    {
     "name": "stdout",
     "output_type": "stream",
     "text": [
      "Liczba odnośników: 24\n",
      "['main_page.html', 'mailto:katedra@kis.p.lodz.pl', 'mapa.html', '?lang=pl', '?lang=en', 'masters_courses.html', 'schedule.html', 'godziny_przyjec.html', 'prace_dyplomowe.html', 'mapa.html', 'euprojects.html', 'conferences.html', 'research.html', 'teaching.html', 'training.html', 'podyplomowe.html', 'staff.html', 'about_kis.html', 'news.html', '#staffTab1', '#staffTab2', 'https://www.researchgate.net/profile/Robert_Susik', 'http://www.p.lodz.pl', 'mapa.html']\n"
     ]
    }
   ],
   "source": [
    "# Zastosowanie zapytania XPATH w celu\n",
    "# pobrania linków ze strony (tagów \"a\" z atrybutem \"href\").\n",
    "parser = etree.HTMLParser(recover=True)\n",
    "tree = etree.fromstring(source_html.content, parser=parser)\n",
    "links_req = [\n",
    "    x.attrib['href']\n",
    "    for x in tree.xpath('//a[@href]')  # zapytanie XPATH\n",
    "    ]\n",
    "\n",
    "print(f'Liczba odnośników: {len(links_req)}')\n",
    "print(links_req)"
   ]
  },
  {
   "cell_type": "code",
   "execution_count": null,
   "metadata": {
    "pycharm": {
     "is_executing": true
    }
   },
   "outputs": [],
   "source": [
    "# Zastosowanie zapytania XPATH w celu\n",
    "# pobrania adresów email.\n",
    "# Tutaj założenie, że adresy email znajdują się\n",
    "# w atrybucie \"href\" po słowie kluczowym \"mailto:\"\n",
    "# w znacznikach \"a\".\n",
    "parser = etree.HTMLParser(recover=True)\n",
    "tree = etree.fromstring(source_html.content, parser=parser)\n",
    "emails_req = [\n",
    "    x.attrib['href'].replace(\"mailto:\", \"\")\n",
    "    for x in tree.xpath(\"//a[starts-with(@href,'mailto:')]\")  # zapytanie XPATH\n",
    "    ]\n",
    "\n",
    "print(f'Liczba adresów email: {len(emails_req)}\\n')\n",
    "print(emails_req)"
   ]
  },
  {
   "cell_type": "markdown",
   "metadata": {},
   "source": [
    "#### Widać na powyższym przykładzie, że adres email, który był celem nie został pobrany ze strony internetowej\n",
    "<img src=\"data:image/png;base64,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\" />"
   ]
  },
  {
   "cell_type": "markdown",
   "metadata": {},
   "source": [
    "### 3. Przykład odczytania adresów email za pomocą narzędzia Selenium"
   ]
  },
  {
   "cell_type": "code",
   "execution_count": 7,
   "metadata": {},
   "outputs": [
    {
     "name": "stderr",
     "output_type": "stream",
     "text": [
      "/var/folders/kr/lqr2hbld7695341s_wlpndbw0000gn/T/ipykernel_95319/1403144200.py:5: DeprecationWarning: executable_path has been deprecated, please pass in a Service object\n",
      "  driver = webdriver.Chrome('./chromedriver', options=options)  # może być też Chrome lub inna przeglądarka\n"
     ]
    }
   ],
   "source": [
    "# Otworzenie strony za pomocą sterownika\n",
    "# przeglądarki - na tym przykładzie jest to Firefox.\n",
    "options = webdriver.ChromeOptions()\n",
    "options.add_argument(\"--headless\")  # okno przeglądarki nie będzie widoczne\n",
    "driver = webdriver.Chrome('./chromedriver', options=options)  # może być też Chrome lub inna przeglądarka\n",
    "# W niektórych instalacjach sterownika konieczne\n",
    "# jest podanie pełnej ścieżki do sterownika (jeżeli\n",
    "# nie dodały się zmienne środowiskowe).\n",
    "# driver = webdriver.Firefox(\"/sciezka/do/sterownika/geckodriver\", options=options)\n",
    "\n",
    "driver.get(\"https://www.kis.p.lodz.pl/staff.158.html\")"
   ]
  },
  {
   "cell_type": "code",
   "execution_count": 8,
   "metadata": {},
   "outputs": [
    {
     "name": "stderr",
     "output_type": "stream",
     "text": [
      "/var/folders/kr/lqr2hbld7695341s_wlpndbw0000gn/T/ipykernel_95319/4287362298.py:7: DeprecationWarning: find_elements_by_* commands are deprecated. Please use find_elements() instead\n",
      "  driver.find_elements_by_xpath(\"//a[@href]\")\n"
     ]
    },
    {
     "name": "stdout",
     "output_type": "stream",
     "text": [
      "Liczba odnośników: 28\n",
      "\n",
      "['https://www.kis.p.lodz.pl/main_page.html', 'katedra@kis.p.lodz.pl', 'https://www.kis.p.lodz.pl/mapa.html', 'https://www.kis.p.lodz.pl/staff.158.html?lang=pl', 'https://www.kis.p.lodz.pl/staff.158.html?lang=en', 'https://www.kis.p.lodz.pl/masters_courses.html', 'https://www.kis.p.lodz.pl/schedule.html', 'https://www.kis.p.lodz.pl/godziny_przyjec.html', 'https://www.kis.p.lodz.pl/prace_dyplomowe.html', 'https://www.kis.p.lodz.pl/mapa.html', 'https://www.kis.p.lodz.pl/euprojects.html', 'https://www.kis.p.lodz.pl/conferences.html', 'https://www.kis.p.lodz.pl/research.html', 'https://www.kis.p.lodz.pl/teaching.html', 'https://www.kis.p.lodz.pl/training.html', 'https://www.kis.p.lodz.pl/podyplomowe.html', 'https://www.kis.p.lodz.pl/staff.html', 'https://www.kis.p.lodz.pl/about_kis.html', 'https://www.kis.p.lodz.pl/news.html', 'rsusik@kis.p.lodz.pl', 'https://www.kis.p.lodz.pl/staff.158.html#staffTab1', 'https://www.kis.p.lodz.pl/staff.158.html#staffTab2', 'rsusik@kis.p.lodz.pl', 'https://www.researchgate.net/profile/Robert_Susik', 'http://www.p.lodz.pl/', 'instytut@iis.p.lodz.pl', 'webmaster@iis.p.lodz.pl', 'https://www.kis.p.lodz.pl/mapa.html']\n"
     ]
    }
   ],
   "source": [
    "# Pobranie wszystkich \"linków\" ze strony\n",
    "links_sel = [\n",
    "    x\n",
    "        .get_attribute(\"href\")\n",
    "        .replace(\"mailto:\", \"\")\n",
    "    for x in\n",
    "    driver.find_elements_by_xpath(\"//a[@href]\")\n",
    "    ]\n",
    "\n",
    "print(f'Liczba odnośników: {len(links_sel)}\\n')\n",
    "print(links_sel)"
   ]
  },
  {
   "cell_type": "markdown",
   "metadata": {},
   "source": [
    "#### Już (powyżej) widać, że jest więcej adresów niż było poprzednio"
   ]
  },
  {
   "cell_type": "code",
   "execution_count": 9,
   "metadata": {},
   "outputs": [
    {
     "name": "stderr",
     "output_type": "stream",
     "text": [
      "/var/folders/kr/lqr2hbld7695341s_wlpndbw0000gn/T/ipykernel_95319/4183723251.py:6: DeprecationWarning: find_elements_by_* commands are deprecated. Please use find_elements() instead\n",
      "  driver.find_elements_by_xpath(\"//a[contains(@href,'mailto:')]\")\n"
     ]
    },
    {
     "name": "stdout",
     "output_type": "stream",
     "text": [
      "Liczba adresów email: 5\n",
      "\n",
      "['katedra@kis.p.lodz.pl', 'rsusik@kis.p.lodz.pl', 'rsusik@kis.p.lodz.pl', 'instytut@iis.p.lodz.pl', 'webmaster@iis.p.lodz.pl']\n",
      "\n",
      "Adresy które nie zostały wcześniej odnalezione:\n",
      "{'rsusik@kis.p.lodz.pl', 'webmaster@iis.p.lodz.pl', 'instytut@iis.p.lodz.pl'}\n"
     ]
    }
   ],
   "source": [
    "emails_sel = [\n",
    "    x\n",
    "        .get_attribute(\"href\")\n",
    "        .replace(\"mailto:\", \"\")\n",
    "    for x in\n",
    "    driver.find_elements_by_xpath(\"//a[contains(@href,'mailto:')]\")\n",
    "    ]\n",
    "print(f'Liczba adresów email: {len(emails_sel)}\\n')\n",
    "print(emails_sel)\n",
    "print(f'\\nAdresy które nie zostały wcześniej odnalezione:\\n{set(emails_sel).difference(set(emails_req))}')"
   ]
  },
  {
   "cell_type": "markdown",
   "metadata": {},
   "source": [
    "#### Na powyższym przykładzie widać adresy które nie zostały wcześniej odnalezione."
   ]
  },
  {
   "cell_type": "code",
   "execution_count": 10,
   "metadata": {},
   "outputs": [
    {
     "data": {
      "text/plain": "'E-mail:</td>\\n\\t\\t<td><script type=\"text/javascript\">safemail3(\"&#x72;&#x73;&#x75;&#x73;&#x69;&#x6b;\",\"&#x6b;&#x69;&#x73;&#x2e;&#x70;&#x2e;&#x6c;&#x6f;&#x64;&#x7a;&#x2e;&#x70;&#x6c;\")</script><a href=\"mailto:rsusik@kis.p.lodz.pl\">rsusik@kis.p.lodz.pl</a></td>\\n\\t</tr>\\n\\t\\t\\t\\t<tr>\\n\\t\\t<td a'"
     },
     "execution_count": 10,
     "metadata": {},
     "output_type": "execute_result"
    }
   ],
   "source": [
    "# Dla dopełnienia fragment kodu źródłowego otrzymanego z przeglądarki,\n",
    "# gdzie widać wygenerowany fragment kodu z adresem email.\n",
    "idx = driver.page_source.index(\"E-mail\")\n",
    "driver.page_source[idx:idx + 280]"
   ]
  },
  {
   "cell_type": "code",
   "execution_count": 11,
   "metadata": {},
   "outputs": [],
   "source": [
    "# Zamknięcie sterownika\n",
    "driver.quit()"
   ]
  },
  {
   "cell_type": "code",
   "execution_count": 11,
   "metadata": {},
   "outputs": [],
   "source": []
  }
 ],
 "metadata": {
  "kernelspec": {
   "display_name": "Python 3",
   "language": "python",
   "name": "python3"
  },
  "language_info": {
   "codemirror_mode": {
    "name": "ipython",
    "version": 3
   },
   "file_extension": ".py",
   "mimetype": "text/x-python",
   "name": "python",
   "nbconvert_exporter": "python",
   "pygments_lexer": "ipython3",
   "version": "3.7.4"
  }
 },
 "nbformat": 4,
 "nbformat_minor": 2
}