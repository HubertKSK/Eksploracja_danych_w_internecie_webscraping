﻿{
 "cells": [
  {
   "cell_type": "code",
   "execution_count": 44,
   "metadata": {
    "collapsed": true,
    "pycharm": {
     "name": "#%%\n"
    }
   },
   "outputs": [],
   "source": [
    "from selenium import webdriver\n",
    "from selenium.webdriver.common.by import By\n",
    "from selenium.webdriver.support.ui import Select\n",
    "from selenium.common.exceptions import NoSuchElementException\n",
    "import time"
   ]
  },
  {
   "cell_type": "code",
   "execution_count": 45,
   "outputs": [],
   "source": [
    "address = \"http://127.0.0.1:5000/\""
   ],
   "metadata": {
    "collapsed": false,
    "pycharm": {
     "name": "#%%\n"
    }
   }
  },
  {
   "cell_type": "code",
   "execution_count": 46,
   "outputs": [
    {
     "name": "stderr",
     "output_type": "stream",
     "text": [
      "/var/folders/kr/lqr2hbld7695341s_wlpndbw0000gn/T/ipykernel_16394/75038193.py:3: DeprecationWarning: executable_path has been deprecated, please pass in a Service object\n",
      "  driver = webdriver.Chrome('./files/chromedriver', options=options)\n"
     ]
    },
    {
     "name": "stdout",
     "output_type": "stream",
     "text": [
      "1\n"
     ]
    }
   ],
   "source": [
    "options = webdriver.ChromeOptions()\n",
    "options.add_argument(\"--headless\")\n",
    "driver = webdriver.Chrome('./files/chromedriver', options=options)\n",
    "driver.get(address)\n",
    "elements = driver.find_elements(By.TAG_NAME, \"input\")\n",
    "print(len(elements))\n",
    "\n",
    "driver.find_element(By.TAG_NAME, \"input\").click()"
   ],
   "metadata": {
    "collapsed": false,
    "pycharm": {
     "name": "#%%\n"
    }
   }
  },
  {
   "cell_type": "code",
   "execution_count": 47,
   "outputs": [
    {
     "name": "stdout",
     "output_type": "stream",
     "text": [
      "5\n"
     ]
    }
   ],
   "source": [
    "elements = driver.find_elements(By.TAG_NAME, \"input\")\n",
    "print(len(elements))\n",
    "try:\n",
    "    email = driver.find_element(By.NAME, \"email\")\n",
    "    name = driver.find_element(By.NAME, \"name\")\n",
    "    password = driver.find_element(By.NAME, \"password\")\n",
    "    re_password = driver.find_element(By.NAME, \"password-repeat\")\n",
    "    submit = driver.find_element(By.TAG_NAME, \"button\")\n",
    "    answer = Select(driver.find_element(By.NAME, \"answer\"))\n",
    "# except NoSuchElementException():\n",
    "#     driver.find_element(By.TAG_NAME, \"input\").click()\n",
    "except Exception as e:\n",
    "    raise (e)"
   ],
   "metadata": {
    "collapsed": false,
    "pycharm": {
     "name": "#%%\n"
    }
   }
  },
  {
   "cell_type": "code",
   "execution_count": 48,
   "outputs": [],
   "source": [
    "email.clear()\n",
    "email.send_keys(\"eksploracja@eksploracja.kis.p.lodz.pl\")\n",
    "\n",
    "name.clear()\n",
    "name.send_keys(\"eksploracja\")\n",
    "\n",
    "password.clear()\n",
    "password.send_keys(\"tajnehaslo\")\n",
    "\n",
    "re_password.clear()\n",
    "re_password.send_keys(\"tajnehaslo\")\n",
    "\n",
    "answer.select_by_value(\"correct\")\n",
    "\n",
    "submit.submit()"
   ],
   "metadata": {
    "collapsed": false,
    "pycharm": {
     "name": "#%%\n"
    }
   }
  },
  {
   "cell_type": "code",
   "execution_count": 49,
   "outputs": [
    {
     "name": "stdout",
     "output_type": "stream",
     "text": [
      "<html><head></head><body>Poprawnie wypełniono formularz.<br>ImmutableMultiDict([('email', 'eksploracja@eksploracja.kis.p.lodz.pl'), ('name', 'eksploracja'), ('password', 'tajnehaslo'), ('password-repeat', 'tajnehaslo'), ('answer', 'correct')])</body></html>\n"
     ]
    }
   ],
   "source": [
    "time.sleep(1)\n",
    "print(driver.page_source)"
   ],
   "metadata": {
    "collapsed": false,
    "pycharm": {
     "name": "#%%\n"
    }
   }
  },
  {
   "cell_type": "code",
   "execution_count": 50,
   "outputs": [],
   "source": [
    "driver.quit()\n"
   ],
   "metadata": {
    "collapsed": false,
    "pycharm": {
     "name": "#%%\n"
    }
   }
  }
 ],
 "metadata": {
  "kernelspec": {
   "display_name": "Python 3",
   "language": "python",
   "name": "python3"
  },
  "language_info": {
   "codemirror_mode": {
    "name": "ipython",
    "version": 2
   },
   "file_extension": ".py",
   "mimetype": "text/x-python",
   "name": "python",
   "nbconvert_exporter": "python",
   "pygments_lexer": "ipython2",
   "version": "2.7.6"
  }
 },
 "nbformat": 4,
 "nbformat_minor": 0
}